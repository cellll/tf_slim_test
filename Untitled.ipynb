{
 "cells": [
  {
   "cell_type": "code",
   "execution_count": 7,
   "metadata": {},
   "outputs": [],
   "source": [
    "import os\n",
    "os.environ['CUDA_VISIBLE_DEVICES']='1'\n",
    "import tensorflow as tf\n",
    "import cv2\n",
    "import numpy as np\n",
    "from tensorflow.python.platform import gfile\n",
    "from nets import inception_v3_concat as inception_v3"
   ]
  },
  {
   "cell_type": "code",
   "execution_count": null,
   "metadata": {},
   "outputs": [],
   "source": [
    "asdf = tf.Graph()\n",
    "with asdf.as_default() as graph:\n",
    "    model_path = '/root/qq/slim_test/ckpt/retrain/classify_image_graph_def.pb'\n",
    "    with gfile.FastGFile(model_path, 'rb') as f:\n",
    "        graph_def = tf.GraphDef()\n",
    "        graph_def.ParseFromString(f.read())\n",
    "        tf.import_graph_def(graph_def)\n",
    "        bottleneck_tensor, resized_input_tensor = (tf.import_graph_def(\n",
    "          graph_def,\n",
    "          name='',\n",
    "          return_elements=[\n",
    "              'pool_3/_reshape:0',\n",
    "              \n",
    "              'Mul:0',\n",
    "          ]))"
   ]
  },
  {
   "cell_type": "code",
   "execution_count": null,
   "metadata": {},
   "outputs": [],
   "source": [
    "print (bottleneck_tensor)\n",
    "print (resized_input_tensor)"
   ]
  },
  {
   "cell_type": "code",
   "execution_count": null,
   "metadata": {},
   "outputs": [],
   "source": [
    "with tf.Session(graph=asdf) as sess:\n",
    "    print ((sess.graph.get_operations()))"
   ]
  },
  {
   "cell_type": "code",
   "execution_count": 8,
   "metadata": {
    "scrolled": true
   },
   "outputs": [
    {
     "name": "stdout",
     "output_type": "stream",
     "text": [
      "Load saved weight: InceptionV3/Conv2d_1a_3x3/weights:0\n",
      "Load saved weight: InceptionV3/Conv2d_2a_3x3/weights:0\n",
      "Load saved weight: InceptionV3/Conv2d_2b_3x3/weights:0\n",
      "Load saved weight: InceptionV3/Conv2d_3b_1x1/weights:0\n",
      "Load saved weight: InceptionV3/Conv2d_4a_3x3/weights:0\n",
      "Load saved weight: InceptionV3/Mixed_5b/Branch_0/Conv2d_0a_1x1/weights:0\n",
      "Load saved weight: InceptionV3/Mixed_5b/Branch_1/Conv2d_0a_1x1/weights:0\n",
      "Load saved weight: InceptionV3/Mixed_5b/Branch_1/Conv2d_0b_5x5/weights:0\n",
      "Load saved weight: InceptionV3/Mixed_5b/Branch_2/Conv2d_0a_1x1/weights:0\n",
      "Load saved weight: InceptionV3/Mixed_5b/Branch_2/Conv2d_0b_3x3/weights:0\n",
      "Load saved weight: InceptionV3/Mixed_5b/Branch_2/Conv2d_0c_3x3/weights:0\n",
      "Load saved weight: InceptionV3/Mixed_5b/Branch_3/Conv2d_0b_1x1/weights:0\n",
      "Load saved weight: InceptionV3/Mixed_5c/Branch_0/Conv2d_0a_1x1/weights:0\n",
      "Load saved weight: InceptionV3/Mixed_5c/Branch_1/Conv2d_0b_1x1/weights:0\n",
      "Load saved weight: InceptionV3/Mixed_5c/Branch_1/Conv_1_0c_5x5/weights:0\n",
      "Load saved weight: InceptionV3/Mixed_5c/Branch_2/Conv2d_0a_1x1/weights:0\n",
      "Load saved weight: InceptionV3/Mixed_5c/Branch_2/Conv2d_0b_3x3/weights:0\n",
      "Load saved weight: InceptionV3/Mixed_5c/Branch_2/Conv2d_0c_3x3/weights:0\n",
      "Load saved weight: InceptionV3/Mixed_5c/Branch_3/Conv2d_0b_1x1/weights:0\n",
      "Load saved weight: InceptionV3/Mixed_5d/Branch_0/Conv2d_0a_1x1/weights:0\n",
      "Load saved weight: InceptionV3/Mixed_5d/Branch_1/Conv2d_0a_1x1/weights:0\n",
      "Load saved weight: InceptionV3/Mixed_5d/Branch_1/Conv2d_0b_5x5/weights:0\n",
      "Load saved weight: InceptionV3/Mixed_5d/Branch_2/Conv2d_0a_1x1/weights:0\n",
      "Load saved weight: InceptionV3/Mixed_5d/Branch_2/Conv2d_0b_3x3/weights:0\n",
      "Load saved weight: InceptionV3/Mixed_5d/Branch_2/Conv2d_0c_3x3/weights:0\n",
      "Load saved weight: InceptionV3/Mixed_5d/Branch_3/Conv2d_0b_1x1/weights:0\n",
      "Load saved weight: InceptionV3/Mixed_6a/Branch_0/Conv2d_1a_1x1/weights:0\n",
      "Load saved weight: InceptionV3/Mixed_6a/Branch_1/Conv2d_0a_1x1/weights:0\n",
      "Load saved weight: InceptionV3/Mixed_6a/Branch_1/Conv2d_0b_3x3/weights:0\n",
      "Load saved weight: InceptionV3/Mixed_6a/Branch_1/Conv2d_1a_1x1/weights:0\n",
      "Load saved weight: InceptionV3/Mixed_6b/Branch_0/Conv2d_0a_1x1/weights:0\n",
      "Load saved weight: InceptionV3/Mixed_6b/Branch_1/Conv2d_0a_1x1/weights:0\n",
      "Load saved weight: InceptionV3/Mixed_6b/Branch_1/Conv2d_0b_1x7/weights:0\n",
      "Load saved weight: InceptionV3/Mixed_6b/Branch_1/Conv2d_0c_7x1/weights:0\n",
      "Load saved weight: InceptionV3/Mixed_6b/Branch_2/Conv2d_0a_1x1/weights:0\n",
      "Load saved weight: InceptionV3/Mixed_6b/Branch_2/Conv2d_0b_7x1/weights:0\n",
      "Load saved weight: InceptionV3/Mixed_6b/Branch_2/Conv2d_0c_1x7/weights:0\n",
      "Load saved weight: InceptionV3/Mixed_6b/Branch_2/Conv2d_0d_7x1/weights:0\n",
      "Load saved weight: InceptionV3/Mixed_6b/Branch_2/Conv2d_0e_1x7/weights:0\n",
      "Load saved weight: InceptionV3/Mixed_6b/Branch_3/Conv2d_0b_1x1/weights:0\n",
      "Load saved weight: InceptionV3/Mixed_6c/Branch_0/Conv2d_0a_1x1/weights:0\n",
      "Load saved weight: InceptionV3/Mixed_6c/Branch_1/Conv2d_0a_1x1/weights:0\n",
      "Load saved weight: InceptionV3/Mixed_6c/Branch_1/Conv2d_0b_1x7/weights:0\n",
      "Load saved weight: InceptionV3/Mixed_6c/Branch_1/Conv2d_0c_7x1/weights:0\n",
      "Load saved weight: InceptionV3/Mixed_6c/Branch_2/Conv2d_0a_1x1/weights:0\n",
      "Load saved weight: InceptionV3/Mixed_6c/Branch_2/Conv2d_0b_7x1/weights:0\n",
      "Load saved weight: InceptionV3/Mixed_6c/Branch_2/Conv2d_0c_1x7/weights:0\n",
      "Load saved weight: InceptionV3/Mixed_6c/Branch_2/Conv2d_0d_7x1/weights:0\n",
      "Load saved weight: InceptionV3/Mixed_6c/Branch_2/Conv2d_0e_1x7/weights:0\n",
      "Load saved weight: InceptionV3/Mixed_6c/Branch_3/Conv2d_0b_1x1/weights:0\n",
      "Load saved weight: InceptionV3/Mixed_6d/Branch_0/Conv2d_0a_1x1/weights:0\n",
      "Load saved weight: InceptionV3/Mixed_6d/Branch_1/Conv2d_0a_1x1/weights:0\n",
      "Load saved weight: InceptionV3/Mixed_6d/Branch_1/Conv2d_0b_1x7/weights:0\n",
      "Load saved weight: InceptionV3/Mixed_6d/Branch_1/Conv2d_0c_7x1/weights:0\n",
      "Load saved weight: InceptionV3/Mixed_6d/Branch_2/Conv2d_0a_1x1/weights:0\n",
      "Load saved weight: InceptionV3/Mixed_6d/Branch_2/Conv2d_0b_7x1/weights:0\n",
      "Load saved weight: InceptionV3/Mixed_6d/Branch_2/Conv2d_0c_1x7/weights:0\n",
      "Load saved weight: InceptionV3/Mixed_6d/Branch_2/Conv2d_0d_7x1/weights:0\n",
      "Load saved weight: InceptionV3/Mixed_6d/Branch_2/Conv2d_0e_1x7/weights:0\n",
      "Load saved weight: InceptionV3/Mixed_6d/Branch_3/Conv2d_0b_1x1/weights:0\n",
      "Load saved weight: InceptionV3/Mixed_6e/Branch_0/Conv2d_0a_1x1/weights:0\n",
      "Load saved weight: InceptionV3/Mixed_6e/Branch_1/Conv2d_0a_1x1/weights:0\n",
      "Load saved weight: InceptionV3/Mixed_6e/Branch_1/Conv2d_0b_1x7/weights:0\n",
      "Load saved weight: InceptionV3/Mixed_6e/Branch_1/Conv2d_0c_7x1/weights:0\n",
      "Load saved weight: InceptionV3/Mixed_6e/Branch_2/Conv2d_0a_1x1/weights:0\n",
      "Load saved weight: InceptionV3/Mixed_6e/Branch_2/Conv2d_0b_7x1/weights:0\n",
      "Load saved weight: InceptionV3/Mixed_6e/Branch_2/Conv2d_0c_1x7/weights:0\n",
      "Load saved weight: InceptionV3/Mixed_6e/Branch_2/Conv2d_0d_7x1/weights:0\n",
      "Load saved weight: InceptionV3/Mixed_6e/Branch_2/Conv2d_0e_1x7/weights:0\n",
      "Load saved weight: InceptionV3/Mixed_6e/Branch_3/Conv2d_0b_1x1/weights:0\n",
      "Load saved weight: InceptionV3/Mixed_7a/Branch_0/Conv2d_0a_1x1/weights:0\n",
      "Load saved weight: InceptionV3/Mixed_7a/Branch_0/Conv2d_1a_3x3/weights:0\n",
      "Load saved weight: InceptionV3/Mixed_7a/Branch_1/Conv2d_0a_1x1/weights:0\n",
      "Load saved weight: InceptionV3/Mixed_7a/Branch_1/Conv2d_0b_1x7/weights:0\n",
      "Load saved weight: InceptionV3/Mixed_7a/Branch_1/Conv2d_0c_7x1/weights:0\n",
      "Load saved weight: InceptionV3/Mixed_7a/Branch_1/Conv2d_1a_3x3/weights:0\n",
      "Load saved weight: InceptionV3/Mixed_7b/Branch_0/Conv2d_0a_1x1/weights:0\n",
      "Load saved weight: InceptionV3/Mixed_7b/Branch_1/Conv2d_0a_1x1/weights:0\n",
      "Load saved weight: InceptionV3/Mixed_7b/Branch_1/Conv2d_0b_1x3/weights:0\n",
      "Load saved weight: InceptionV3/Mixed_7b/Branch_1/Conv2d_0b_3x1/weights:0\n",
      "Load saved weight: InceptionV3/Mixed_7b/Branch_2/Conv2d_0a_1x1/weights:0\n",
      "Load saved weight: InceptionV3/Mixed_7b/Branch_2/Conv2d_0b_3x3/weights:0\n",
      "Load saved weight: InceptionV3/Mixed_7b/Branch_2/Conv2d_0c_1x3/weights:0\n",
      "Load saved weight: InceptionV3/Mixed_7b/Branch_2/Conv2d_0d_3x1/weights:0\n",
      "Load saved weight: InceptionV3/Mixed_7b/Branch_3/Conv2d_0b_1x1/weights:0\n",
      "Load saved weight: InceptionV3/Mixed_7c/Branch_0/Conv2d_0a_1x1/weights:0\n",
      "Load saved weight: InceptionV3/Mixed_7c/Branch_1/Conv2d_0a_1x1/weights:0\n",
      "Load saved weight: InceptionV3/Mixed_7c/Branch_1/Conv2d_0b_1x3/weights:0\n",
      "Load saved weight: InceptionV3/Mixed_7c/Branch_1/Conv2d_0c_3x1/weights:0\n",
      "Load saved weight: InceptionV3/Mixed_7c/Branch_2/Conv2d_0a_1x1/weights:0\n",
      "Load saved weight: InceptionV3/Mixed_7c/Branch_2/Conv2d_0b_3x3/weights:0\n",
      "Load saved weight: InceptionV3/Mixed_7c/Branch_2/Conv2d_0c_1x3/weights:0\n",
      "Load saved weight: InceptionV3/Mixed_7c/Branch_2/Conv2d_0d_3x1/weights:0\n",
      "Load saved weight: InceptionV3/Mixed_7c/Branch_3/Conv2d_0b_1x1/weights:0\n",
      "Load saved weight: InceptionV3/AuxLogits/Conv2d_1b_1x1/weights:0\n",
      "Load saved weight: InceptionV3/AuxLogits/Conv2d_2a_5x5/weights:0\n",
      "Load saved weight: InceptionV3/AuxLogits/Conv2d_2b_1x1/weights:0\n",
      "Load saved weight: InceptionV3/AuxLogits/Conv2d_2b_1x1/biases:0\n",
      "Load saved weight: InceptionV3/Logits/Conv2d_1c_1x1/weights:0\n",
      "Load saved weight: InceptionV3/Logits/Conv2d_1c_1x1/biases:0\n"
     ]
    }
   ],
   "source": [
    "inf_graph = tf.Graph()\n",
    "with inf_graph.as_default():\n",
    "    image = tf.placeholder('float', [None, 299, 299, 3])\n",
    "    logits, end_points = inception_v3.inception_v3_concat(image, 2)\n",
    "\n",
    "    latest_checkpoint='/root/qq/slim_test/training/inceptionv3_concat/model.ckpt-0'\n",
    "    reader = tf.train.NewCheckpointReader(latest_checkpoint)\n",
    "    saved_shapes = reader.get_variable_to_shape_map()\n",
    "    variables_to_restore = tf.global_variables()\n",
    "\n",
    "    for var in variables_to_restore:\n",
    "        if not var.name.split(':')[0] in saved_shapes:\n",
    "            #print(\"WARNING. Saved weight not exists in checkpoint. Init var:\", var.name)\n",
    "            pass\n",
    "        else:\n",
    "            print(\"Load saved weight:\", var.name)\n",
    "            #pass\n",
    "\n",
    "        var_names = sorted([(var.name, var.name.split(':')[0]) for var in variables_to_restore\n",
    "                if var.name.split(':')[0] in saved_shapes])\n",
    "        restore_vars = []\n",
    "        with tf.variable_scope('', reuse=True):\n",
    "            for var_name, saved_var_name in var_names:\n",
    "                try:\n",
    "                    curr_var = tf.get_variable(saved_var_name)\n",
    "                    var_shape = curr_var.get_shape().as_list()\n",
    "                    if var_shape == saved_shapes[saved_var_name]:\n",
    "                        if 'Logits' in str(curr_var):\n",
    "                            #print (str(curr_var))\n",
    "                            pass\n",
    "                        # print(\"restore var:\", saved_var_name)\n",
    "                        else:\n",
    "                            restore_vars.append(curr_var)\n",
    "                except ValueError:\n",
    "                    print(\"Ignore due to ValueError on getting var:\", saved_var_name) \n"
   ]
  },
  {
   "cell_type": "code",
   "execution_count": 9,
   "metadata": {},
   "outputs": [
    {
     "data": {
      "text/plain": [
       "{'AuxLogits': <tf.Tensor 'InceptionV3/AuxLogits/SpatialSqueeze:0' shape=(?, 2) dtype=float32>,\n",
       " 'AvgPool_1a': <tf.Tensor 'InceptionV3/Logits/AvgPool_1a_8x8/AvgPool:0' shape=(?, 1, 1, 2048) dtype=float32>,\n",
       " 'Conv2d_1a_3x3': <tf.Tensor 'InceptionV3/InceptionV3/Conv2d_1a_3x3/Relu:0' shape=(?, 149, 149, 32) dtype=float32>,\n",
       " 'Conv2d_2a_3x3': <tf.Tensor 'InceptionV3/InceptionV3/Conv2d_2a_3x3/Relu:0' shape=(?, 147, 147, 32) dtype=float32>,\n",
       " 'Conv2d_2b_3x3': <tf.Tensor 'InceptionV3/InceptionV3/Conv2d_2b_3x3/Relu:0' shape=(?, 147, 147, 64) dtype=float32>,\n",
       " 'Conv2d_3b_1x1': <tf.Tensor 'InceptionV3/InceptionV3/Conv2d_3b_1x1/Relu:0' shape=(?, 73, 73, 80) dtype=float32>,\n",
       " 'Conv2d_4a_3x3': <tf.Tensor 'InceptionV3/InceptionV3/Conv2d_4a_3x3/Relu:0' shape=(?, 71, 71, 192) dtype=float32>,\n",
       " 'Logits': <tf.Tensor 'InceptionV3/Logits/SpatialSqueeze:0' shape=(?, 2) dtype=float32>,\n",
       " 'MaxPool_3a_3x3': <tf.Tensor 'InceptionV3/InceptionV3/MaxPool_3a_3x3/MaxPool:0' shape=(?, 73, 73, 64) dtype=float32>,\n",
       " 'MaxPool_5a_3x3': <tf.Tensor 'InceptionV3/InceptionV3/MaxPool_5a_3x3/MaxPool:0' shape=(?, 35, 35, 192) dtype=float32>,\n",
       " 'Mixed_5b': <tf.Tensor 'InceptionV3/InceptionV3/Mixed_5b/concat:0' shape=(?, 35, 35, 256) dtype=float32>,\n",
       " 'Mixed_5c': <tf.Tensor 'InceptionV3/InceptionV3/Mixed_5c/concat:0' shape=(?, 35, 35, 288) dtype=float32>,\n",
       " 'Mixed_5d': <tf.Tensor 'InceptionV3/InceptionV3/Mixed_5d/concat:0' shape=(?, 35, 35, 288) dtype=float32>,\n",
       " 'Mixed_6a': <tf.Tensor 'InceptionV3/InceptionV3/Mixed_6a/concat:0' shape=(?, 17, 17, 768) dtype=float32>,\n",
       " 'Mixed_6b': <tf.Tensor 'InceptionV3/InceptionV3/Mixed_6b/concat:0' shape=(?, 17, 17, 768) dtype=float32>,\n",
       " 'Mixed_6c': <tf.Tensor 'InceptionV3/InceptionV3/Mixed_6c/concat:0' shape=(?, 17, 17, 768) dtype=float32>,\n",
       " 'Mixed_6d': <tf.Tensor 'InceptionV3/InceptionV3/Mixed_6d/concat:0' shape=(?, 17, 17, 768) dtype=float32>,\n",
       " 'Mixed_6e': <tf.Tensor 'InceptionV3/InceptionV3/Mixed_6e/concat:0' shape=(?, 17, 17, 768) dtype=float32>,\n",
       " 'Mixed_7a': <tf.Tensor 'InceptionV3/InceptionV3/Mixed_7a/concat:0' shape=(?, 8, 8, 1280) dtype=float32>,\n",
       " 'Mixed_7b': <tf.Tensor 'InceptionV3/InceptionV3/Mixed_7b/concat:0' shape=(?, 8, 8, 2048) dtype=float32>,\n",
       " 'Mixed_7c': <tf.Tensor 'InceptionV3/InceptionV3/Mixed_7c/concat:0' shape=(?, 8, 8, 2048) dtype=float32>,\n",
       " 'PreLogits1': <tf.Tensor 'InceptionV3/Logits/Dropout_1b/dropout/mul:0' shape=(?, 1, 1, 2048) dtype=float32>,\n",
       " 'PreLogits2': <tf.Tensor 'InceptionV3/Logits/Dropout_1b_1/dropout/mul:0' shape=(?, 1, 1, 2048) dtype=float32>,\n",
       " 'PreLogitsConcat': <tf.Tensor 'InceptionV3/Logits/PreLogitsConcat:0' shape=(?, 1, 1, 4096) dtype=float32>,\n",
       " 'Predictions': <tf.Tensor 'InceptionV3/Predictions/Reshape_1:0' shape=(?, 2) dtype=float32>}"
      ]
     },
     "execution_count": 9,
     "metadata": {},
     "output_type": "execute_result"
    }
   ],
   "source": [
    "end_points"
   ]
  },
  {
   "cell_type": "code",
   "execution_count": 11,
   "metadata": {},
   "outputs": [],
   "source": [
    "f = open('cc123c.txt', 'a')\n",
    "for item in inf_graph.get_operations():\n",
    "    f.write(str(item.name) + \"\\n\")\n",
    "    f.flush()\n",
    "    \n",
    "f.close()"
   ]
  },
  {
   "cell_type": "code",
   "execution_count": 35,
   "metadata": {},
   "outputs": [
    {
     "data": {
      "text/plain": [
       "<tf.Tensor 'InceptionV3/Logits/Dropout_1b/dropout/mul:0' shape=(?, 1, 1, 2048) dtype=float32>"
      ]
     },
     "execution_count": 35,
     "metadata": {},
     "output_type": "execute_result"
    }
   ],
   "source": [
    "inf_graph.get_tensor_by_name('InceptionV3/Logits/Dropout_1b/dropout/mul:0')"
   ]
  },
  {
   "cell_type": "code",
   "execution_count": 12,
   "metadata": {},
   "outputs": [],
   "source": [
    "asdf = 'InceptionV3/Logits/PreLogitsConcat/axis,InceptionV3/Logits/PreLogitsConcat,InceptionV3/Logits/Conv2d_1c_1x1/weights/Initializer/random_uniform/shape,InceptionV3/Logits/Conv2d_1c_1x1/weights/Initializer/random_uniform/min,InceptionV3/Logits/Conv2d_1c_1x1/weights/Initializer/random_uniform/max,InceptionV3/Logits/Conv2d_1c_1x1/weights/Initializer/random_uniform/RandomUniform,InceptionV3/Logits/Conv2d_1c_1x1/weights/Initializer/random_uniform/sub,InceptionV3/Logits/Conv2d_1c_1x1/weights/Initializer/random_uniform/mul,InceptionV3/Logits/Conv2d_1c_1x1/weights/Initializer/random_uniform,InceptionV3/Logits/Conv2d_1c_1x1/weights,InceptionV3/Logits/Conv2d_1c_1x1/weights/Assign,InceptionV3/Logits/Conv2d_1c_1x1/weights/read,InceptionV3/Logits/Conv2d_1c_1x1/biases/Initializer/zeros,InceptionV3/Logits/Conv2d_1c_1x1/biases,InceptionV3/Logits/Conv2d_1c_1x1/biases/Assign,InceptionV3/Logits/Conv2d_1c_1x1/biases/read,InceptionV3/Logits/Conv2d_1c_1x1/dilation_rate,InceptionV3/Logits/Conv2d_1c_1x1/Conv2D,InceptionV3/Logits/Conv2d_1c_1x1/BiasAdd,InceptionV3/Logits/SpatialSqueeze,InceptionV3/Predictions/Reshape/shape,InceptionV3/Predictions/Reshape,InceptionV3/Predictions/Softmax,InceptionV3/Predictions/Shape,InceptionV3/Predictions/Reshape_1'"
   ]
  },
  {
   "cell_type": "code",
   "execution_count": 13,
   "metadata": {},
   "outputs": [
    {
     "name": "stdout",
     "output_type": "stream",
     "text": [
      "Tensor(\"InceptionV3/Logits/PreLogitsConcat/axis:0\", shape=(), dtype=int32)\n",
      "Tensor(\"InceptionV3/Logits/PreLogitsConcat:0\", shape=(?, 1, 1, 4096), dtype=float32)\n",
      "Tensor(\"InceptionV3/Logits/Conv2d_1c_1x1/weights/Initializer/random_uniform/shape:0\", shape=(4,), dtype=int32)\n",
      "Tensor(\"InceptionV3/Logits/Conv2d_1c_1x1/weights/Initializer/random_uniform/min:0\", shape=(), dtype=float32)\n",
      "Tensor(\"InceptionV3/Logits/Conv2d_1c_1x1/weights/Initializer/random_uniform/max:0\", shape=(), dtype=float32)\n",
      "Tensor(\"InceptionV3/Logits/Conv2d_1c_1x1/weights/Initializer/random_uniform/RandomUniform:0\", shape=(1, 1, 4096, 2), dtype=float32)\n",
      "Tensor(\"InceptionV3/Logits/Conv2d_1c_1x1/weights/Initializer/random_uniform/sub:0\", shape=(), dtype=float32)\n",
      "Tensor(\"InceptionV3/Logits/Conv2d_1c_1x1/weights/Initializer/random_uniform/mul:0\", shape=(1, 1, 4096, 2), dtype=float32)\n",
      "Tensor(\"InceptionV3/Logits/Conv2d_1c_1x1/weights/Initializer/random_uniform:0\", shape=(1, 1, 4096, 2), dtype=float32)\n",
      "Tensor(\"InceptionV3/Logits/Conv2d_1c_1x1/weights:0\", shape=(1, 1, 4096, 2), dtype=float32_ref)\n",
      "Tensor(\"InceptionV3/Logits/Conv2d_1c_1x1/weights/Assign:0\", shape=(1, 1, 4096, 2), dtype=float32_ref)\n",
      "Tensor(\"InceptionV3/Logits/Conv2d_1c_1x1/weights/read:0\", shape=(1, 1, 4096, 2), dtype=float32)\n",
      "Tensor(\"InceptionV3/Logits/Conv2d_1c_1x1/biases/Initializer/zeros:0\", shape=(2,), dtype=float32)\n",
      "Tensor(\"InceptionV3/Logits/Conv2d_1c_1x1/biases:0\", shape=(2,), dtype=float32_ref)\n",
      "Tensor(\"InceptionV3/Logits/Conv2d_1c_1x1/biases/Assign:0\", shape=(2,), dtype=float32_ref)\n",
      "Tensor(\"InceptionV3/Logits/Conv2d_1c_1x1/biases/read:0\", shape=(2,), dtype=float32)\n",
      "Tensor(\"InceptionV3/Logits/Conv2d_1c_1x1/dilation_rate:0\", shape=(2,), dtype=int32)\n",
      "Tensor(\"InceptionV3/Logits/Conv2d_1c_1x1/Conv2D:0\", shape=(?, 1, 1, 2), dtype=float32)\n",
      "Tensor(\"InceptionV3/Logits/Conv2d_1c_1x1/BiasAdd:0\", shape=(?, 1, 1, 2), dtype=float32)\n",
      "Tensor(\"InceptionV3/Logits/SpatialSqueeze:0\", shape=(?, 2), dtype=float32)\n",
      "Tensor(\"InceptionV3/Predictions/Reshape/shape:0\", shape=(2,), dtype=int32)\n",
      "Tensor(\"InceptionV3/Predictions/Reshape:0\", shape=(?, 2), dtype=float32)\n",
      "Tensor(\"InceptionV3/Predictions/Softmax:0\", shape=(?, 2), dtype=float32)\n",
      "Tensor(\"InceptionV3/Predictions/Shape:0\", shape=(2,), dtype=int32)\n",
      "Tensor(\"InceptionV3/Predictions/Reshape_1:0\", shape=(?, 2), dtype=float32)\n"
     ]
    }
   ],
   "source": [
    "for item in asdf.split(','):\n",
    "    print (inf_graph.get_tensor_by_name(str(item) + ':0'))"
   ]
  },
  {
   "cell_type": "code",
   "execution_count": null,
   "metadata": {},
   "outputs": [],
   "source": []
  }
 ],
 "metadata": {
  "kernelspec": {
   "display_name": "Python 3",
   "language": "python",
   "name": "python3"
  },
  "language_info": {
   "codemirror_mode": {
    "name": "ipython",
    "version": 3
   },
   "file_extension": ".py",
   "mimetype": "text/x-python",
   "name": "python",
   "nbconvert_exporter": "python",
   "pygments_lexer": "ipython3",
   "version": "3.4.5"
  }
 },
 "nbformat": 4,
 "nbformat_minor": 2
}
